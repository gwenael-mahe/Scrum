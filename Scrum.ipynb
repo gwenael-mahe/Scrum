{
 "cells": [
  {
   "cell_type": "markdown",
   "metadata": {},
   "source": [
    "# La méthode Scrum"
   ]
  },
  {
   "cell_type": "markdown",
   "metadata": {},
   "source": [
    "## Sommaire"
   ]
  },
  {
   "cell_type": "markdown",
   "metadata": {},
   "source": [
    "- Qu’est ce que la méthode Scrum ? Quel est son objectif ?\n",
    "- Les valeurs de la méthode Scrum.\n",
    "- Comment se compose une équipe Scrum ? Quelles sont leurs rôles ?\n",
    "- Les évènemets du Scrum.\n",
    "- Artefacts et outils de la méthode Scrum.\n",
    "- Définition de : user story, story points, la DoD, un Burndown chart et la méthode Kanban.\n",
    "- Argumentation sur l'utilisation du Scrum.\n"
   ]
  },
  {
   "cell_type": "markdown",
   "metadata": {},
   "source": [
    "## Qu'est ce que la méthode Scrum ? Quel est son objectif ?"
   ]
  },
  {
   "cell_type": "markdown",
   "metadata": {},
   "source": [
    "Scrum est une méthode de développement agile orientée projet informatique dont les ressources sont régulièrement actualisées.\n",
    "La méthode Scrum tire son nom du monde du rugby, scrum = mêlée. Le principe de base étant d'être toujours prêt à réorienter le projet au fil de son avancement.\n",
    "\n",
    "C'est une approche dynamique et participative de la conduite du projet. La mêlée est une phase de jeu essentielle au rugby. Elle permet au jeu de repartir sur d'autres bases. La réunion dans la méthode Scrum relaie la métaphore.\n",
    "\n",
    "Le but du Scrum est de pouvoir réorienter le projet tout au long du développement et de mettre le client au centre du projet."
   ]
  },
  {
   "cell_type": "markdown",
   "metadata": {},
   "source": [
    "## Les valeurs du Scrum"
   ]
  },
  {
   "cell_type": "markdown",
   "metadata": {},
   "source": [
    "### Focus"
   ]
  },
  {
   "cell_type": "markdown",
   "metadata": {},
   "source": [
    "Pour suivre le rythme de réalisation, les membres de l’équipe devront être focus pendant le Sprint et à l’accomplissement du Sprint Goal"
   ]
  },
  {
   "cell_type": "markdown",
   "metadata": {},
   "source": [
    "### Ouverture"
   ]
  },
  {
   "cell_type": "markdown",
   "metadata": {},
   "source": [
    "Les membres de l’équipe doivent être ouvert à la collaboration avec d’autres équipes ou personnes et au critiques constructives qui permettent l’amélioration continue\n",
    "\n"
   ]
  },
  {
   "cell_type": "markdown",
   "metadata": {},
   "source": [
    "### Respect"
   ]
  },
  {
   "cell_type": "markdown",
   "metadata": {},
   "source": [
    "Le respect entre les différents membres de l’équipe (équipement de développement, product owner, Scrum Master etc) est essentiel pour avancer dans la même direction. Dans le cadre de travail Scrum, on parle de respect des personnes, de leurs compétences et expériences ; du cadre Scrum et des responsabilités de chaque rôle."
   ]
  },
  {
   "cell_type": "markdown",
   "metadata": {},
   "source": [
    "### Courage \n",
    "\n"
   ]
  },
  {
   "cell_type": "markdown",
   "metadata": {},
   "source": [
    "De dire non ! Je ne sais pas ! Appeler à l’aide ! Refuser de créer des fonctionnalités sans valeur pour l’utilisateur final ; courage de refaire ce qui avait été fait ; courage de changer de voie, ou d’opinion ; de défier le statuquo"
   ]
  },
  {
   "cell_type": "markdown",
   "metadata": {},
   "source": [
    "### Engagement "
   ]
  },
  {
   "cell_type": "markdown",
   "metadata": {},
   "source": [
    "A donner le mieux de soi même dans chaque activité ; à aider les autres membres de l’équipe ; à atteindre le Sprint Goal"
   ]
  },
  {
   "cell_type": "markdown",
   "metadata": {},
   "source": [
    "## Comment se compose une équipe Scrum ? Quelles sont leurs rôles ?"
   ]
  },
  {
   "cell_type": "markdown",
   "metadata": {},
   "source": [
    "### Product Owner : définir une orientation claire"
   ]
  },
  {
   "cell_type": "markdown",
   "metadata": {},
   "source": [
    "De par leur conception, les équipes Agile sont flexibles et réactives. En outre, il incombe au Product Owner de s'assurer qu'elles offrent la meilleure valeur possible. L'entreprise est représentée par le Product Owner qui indique les livraisons importantes à l'équipe de développement. La confiance entre ces deux rôles est cruciale.\n",
    "\n",
    "Le Product Owner doit non seulement comprendre le client, mais aussi avoir une vision de la valeur que l'équipe Scrum apporte au client. Il doit également trouver un équilibre entre les besoins des autres parties prenantes de l'organisation.\n",
    "\n",
    "Le Product Owner doit donc prendre tous ces éléments en considération et hiérarchiser le travail. Il s'agit probablement de sa principale responsabilité, car des priorités contradictoires et des orientations imprécises réduiront non seulement l'efficacité de l'équipe, mais pourraient également rompre la relation de confiance indispensable que l'entreprise entretient avec l'équipe de développement.\n",
    "\n",
    "Les équipes Agile sont conçues pour inspecter et s'adapter, ce qui signifie qu'un changement de priorité peut entraîner un changement majeur de la structure de l'équipe, des produits de travail, ainsi que du résultat final. Il est donc crucial, pour que les équipes Scrum réussissent, qu'une seule personne fixe les priorités. Cette personne n'est autre que le Product Owner.\n",
    "\n",
    "Le guide Scrum définit les responsabilités des Product Owners comme suit :\n",
    "\n",
    "- Gestion du backlog Scrum : cela ne signifie pas qu'ils sont les seuls à insérer de nouvelles tâches dans le backlog produit. Mais en fin de compte, ils sont responsables des tâches du backlog dont l'équipe de développement se charge et qu'elle devra livrer. Autrement dit, un Product Owner doit savoir tout ce qui se trouve dans le backlog, et les personnes qui ajoutent des éléments au backlog produit doivent bien communiquer avec lui.\n",
    "- Gestion des livraisons : le sprint n'est pas un cycle de livraison, mais un cycle de planification. Autrement dit, les équipes Scrum peuvent livrer à tout moment. Idéalement, elles effectuent des livraisons fréquentes tout au long du sprint, ce qui permet, lors de la revue de sprint, d'examiner l'utilisation réelle par le client et son feedback. Toutefois, la livraison continue n'est pas toujours possible, et d'autres modèles de livraison sont nécessaires. Il est important que le Product Owner sache quand des éléments peuvent et doivent être livrés.\n",
    "- Gestion des parties prenantes : tout produit implique la participation de nombreux acteurs, qu'il s'agisse des utilisateurs, des clients, de la gouvernance ou de la direction de l'organisation. Le Product Owner devra collaborer avec toutes ces personnes pour s'assurer que l'équipe de développement apporte une valeur ajoutée. Cela peut signifier une bonne dose de gestion et de communication avec les parties prenantes."
   ]
  },
  {
   "cell_type": "markdown",
   "metadata": {},
   "source": [
    "### Scrum Master : assurer la cohérence\n"
   ]
  },
  {
   "cell_type": "markdown",
   "metadata": {},
   "source": [
    "Le Scrum Master est chargé de s'assurer que le tout est cohérent et de garantir que Scrum fonctionne correctement. Concrètement, il aide le Product Owner à définir la valeur, l'équipe de développement à fournir de la valeur et l'équipe Scrum à s'améliorer. Le Scrum Master est un leader-serviteur qui décrit non seulement un style de leadership solidaire, mais aussi ce qu'il fait au quotidien.\n",
    "\n",
    "Il répond aux besoins du Product Owner en l'aidant à mieux comprendre et à communiquer la valeur, à gérer le backlog, à planifier le travail avec l'équipe et à répartir ce travail afin de fournir l'apprentissage le plus efficace possible. Au service de l'équipe de développement, le Scrum Master l'aide à s'auto-organiser, à se concentrer sur les résultats, à atteindre un « incrément terminé » et à gérer les bloqueurs. Il est également au service de l'organisation dans son ensemble, en l'aidant à comprendre ce qu'est Scrum et à créer un environnement qui le soutient.\n",
    "\n",
    "Le Scrum Master se concentre sur les points suivants :\n",
    "\n",
    "- Transparence : pour inspecter et adapter efficacement, il est important que les bonnes personnes puissent voir ce qui se passe. Mais c'est en fait beaucoup plus difficile qu'il n'y paraît. Le Scrum Master a pour tâche de s'assurer que l'équipe Scrum travaille de manière transparente. Il peut, par exemple, créer des cartographies de stories et mettre à jour les pages Confluence avec les idées de la rétrospective.\n",
    "Empirisme : l'idée selon laquelle la meilleure façon de planifier est de faire le travail et d'en tirer des leçons est fondamentale pour les approches Scrum et Agile. Le processus empirique n'est pas facile et exige du Scrum Master qu'il guide l'équipe Scrum dans la répartition du travail, la description claire, puis l'examen des résultats.\n",
    "- Auto-organisation : dire à une équipe de développement qu'elle peut s'auto-organiser signifie que l'équipe va s'auto-organiser. En fait, l'auto-organisation se fait au fil du temps, et nécessite de l'aide et du support. Le Scrum Master encouragera les membres de l'équipe à sortir de leur zone de confort, à essayer de nouvelles choses et à recourir à des pratiques comme le « Delegation Poker » pour exposer et remettre en question des idées prédéfinies sur les limites des rôles et des responsabilités.\n",
    "- Valeurs : Scrum définit cinq valeurs de courage, de concentration, d'engagement, de respect et d'ouverture, non pas parce qu'elles sont souhaitables, mais parce qu'elles contribuent à créer un environnement de sécurité physiologique et de confiance. Cet environnement est nécessaire pour favoriser l'agilité. Le respect des valeurs est de la responsabilité de chacun au sein de l'équipe Scrum, mais le Scrum Master joue un rôle actif en encourageant et en rappelant à chacun l'importance de ces valeurs.\n",
    "- Le Scrum Master assiste le Product Owner lors de la planification de sprint et les revues de sprint en s'assurant que la valeur est clairement décrite et que l'orientation est définie. Il assiste l'équipe de développement durant la mêlée quotidienne (Daily Scrum) en garantissant que le travail est effectué et que les bloqueurs sont éliminés. Il assume également la responsabilité des bloqueurs qui n'entrent pas dans la capacité de résolution de l'équipe. Le Scrum Master s'assure que chaque opportunité d'amélioration est transparente pour l'équipe Scrum et que la rétrospective présente un ensemble clair de résultats concrets."
   ]
  },
  {
   "cell_type": "markdown",
   "metadata": {},
   "source": [
    "### L'équipe de développement : redéfinir le terme « développeur »"
   ]
  },
  {
   "cell_type": "markdown",
   "metadata": {},
   "source": [
    "L'équipe de développement rassemble les personnes qui réalisent le travail. À première vue, vous pouvez penser que l'« équipe de développement » est composée d'ingénieurs. Mais ce n'est pas toujours le cas. Selon le Guide Scrum, l'équipe de développement peut comprendre toutes sortes de personnes, y compris des designers, des rédacteurs, des programmeurs, et bien d'autres.\n",
    "\n",
    "C'est un peu comme concevoir un projet de maison et engager un développeur. Il développe le projet et réalise le travail. Il peut, par exemple, poser des briques, installer la plomberie, voire creuser des trous, mais il est connu comme un développeur. Cela signifie donc que le rôle de « développeur » dans Scrum est celui d'un membre de l'équipe qui possède les compétences requises pour effectuer le travail.\n",
    "\n",
    "L'équipe de développement doit être capable de s'auto-organiser afin de pouvoir prendre des décisions en vue de réaliser le travail. Considérez une équipe de développement comme une équipe de support de la production appelée pendant la nuit, parce que quelque chose ne tourne pas rond. L'équipe de développement, tout comme l'équipe de support de la production, peut prendre des décisions et apporter une solution/valeur ajoutée pour résoudre le problème en question. L'auto-organisation ne consiste pas à ignorer l'organisation, mais plutôt à donner aux personnes en première ligne les moyens de faire ce qui est nécessaire pour résoudre le problème.\n",
    "\n",
    "Les responsabilités de l'équipe de développement comprennent :\n",
    "\n",
    "- La livraison du travail tout au long du sprint.\n",
    "- Pour assurer la transparence durant le sprint, elle se réunit quotidiennement lors de la mêlée quotidienne, ou Daily Scrum, (parfois appelée stand-up). Le Daily Scrum assure la transparence du travail et fournit un espace dédié aux membres de l'équipe pour demander de l'aide, parler des réussites, et mettre en évidence les problèmes et les bloqueurs. Le Scrum Master peut animer le Daily Scrum, mais il revient à l'équipe de développement de l'organiser. Cette réunion est la sienne. Elle a pour vocation de l'aider, en tant que groupe, à inspecter et à adapter le travail qu'elle fait, et à travailler plus efficacement."
   ]
  },
  {
   "cell_type": "markdown",
   "metadata": {},
   "source": [
    "## Les évènements du Scrum"
   ]
  },
  {
   "cell_type": "markdown",
   "metadata": {},
   "source": [
    "### Le Sprint Planning"
   ]
  },
  {
   "cell_type": "markdown",
   "metadata": {},
   "source": [
    "Dans chaque Sprint, l’ équipe Scrum définit un objectif pour le Sprint: le Sprint Goal. Quelle(s) fonctionnalité(s) utilisables du produit peut-on livrer dans le Sprint ? Attention une liste pure et simple de fonctionnalités(ex: les Jira 3, 4, 5) ne forment PAS un bon Sprint Goal. C’est la balise qui va aider l’équipe Scrum à se diriger au fur et à mesure des découvertes lors du Sprint. Seul le PO peut invalider un Sprint Goal lorsque l’objectif devient obsolète avec la direction que doit prendre le produit. C’est une chose qui est heureusement rare, vu la durée des Sprints.\n",
    "\n",
    "Avant le Sprint Planning, généralement le Product Owner(PO) doit avoir une idée du Sprint Goal. Cela va orienter quels éléments du Product Backlog seront à préférer pour ce Sprint. L’ordonnancement, le raffinement et la clarté du Product Backlog jouent un grand rôle pour le Sprint Planning (ce qui ne veut pas dire qu’il faut pour autant avoir tout raffiné). Le Product Backlog comporte des éléments ou Product Backlog Items(PBI) qui se trouvent être souvent des User Stories (voir La boîte à outils de Scrum ).\n",
    "\n",
    "L’équipe Scrum entière concocte le Sprint Goal et aussi estime la charge de PBI qui peut être réalisée pendant la durée du Sprint en fonction du contexte de l’équipe (capacité, vélocité, …) et de la complexité des PBI. L’évènement du Sprint Planning nécessite une collaboration active de toute l’équipe Scrum. L’équipe de Développement s’engage collectivement sur le Sprint Goal. Elle prend les PBI à livrer durant le Sprint du Product Backlog et les mets dans le Sprint Backlog. Cela constitue en quelque sorte l’estimation de comment livrer l’Incrément ce Sprint.\n",
    "\n",
    "Un Sprint Planning a une timebox de 8h pour un Sprint de 1 mois.\n",
    "\n",
    "Afin de réaliser l’estimation des PBI , le planning poker est un outil souvent utilisé dans les équipes Scrum."
   ]
  },
  {
   "cell_type": "markdown",
   "metadata": {},
   "source": [
    "#### Le planning poker"
   ]
  },
  {
   "cell_type": "markdown",
   "metadata": {},
   "source": [
    "- Se fait idéalement en présence du Product Owner,\n",
    "- Avec des cartes ou une appli mobile si équipé (ex : Scrum Poker Cards Agile),\n",
    "- Le PO doit avoir bien préparé les PBI (Users Stories par exemple) en les détaillant suffisamment,\n",
    "- Le PO peut faire parvenir aux développeurs en avance les PBI à chiffrer,\n",
    "- Le PO refait une lecture en détail avec les développeurs des PBI à chiffrer afin que le besoin soit vraiment bien compris,\n",
    "- Tous les membres de l’équipe de Développement doivent proposer en même temps un chiffrage, même pour ceux qui ne travailleront pas sur le PBI estimé."
   ]
  },
  {
   "cell_type": "markdown",
   "metadata": {},
   "source": [
    "### Le Daily Scrum"
   ]
  },
  {
   "cell_type": "markdown",
   "metadata": {},
   "source": [
    "Le Daily Scrum ( quelques fois communément appelé daily meeting ou daily stand up) est un événement de 15 min qui permet à l’équipe de se synchroniser. Cet évènement a pour objectif de donner de la visibilité à l’équipe sur les tâches effectuées permettant d’atteindre l’objectif (Sprint Goal) et sur les obstacles qui freinent les développeurs dans l’accomplissement de ces tâches. Le Daily Scrum est donc l’occasion pour chaque membre de l’équipe de se synchroniser avec les autres, de demander de l’aide si besoin et de préparer dans des conditions optimales une nouvelle journée de Sprint.\n",
    "\n",
    "Afin de respecter le délai très court du daily, on peut s’aider des trois questions suivantes auxquelles chaque membre de l’équipe peut répondre ( ces questionw sont indicatives et non obligatoires, c’est le but de celles-ci ainsi que l’inspection vers le Sprint Goal qu’il faut réaliser) :\n",
    "- Qu’est ce que j’ai fait hier (engagement réussi ou non) ?\n",
    "- Quelles sont les difficultés rencontrées ?\n",
    "- Qu’est ce que je vais faire aujourd’hui ?\n",
    "\n",
    "Le PO peut participer au Daily Scrum, tout en se rappelant que c’est un évènement pour l’équipe de développement :\n",
    "- Il peut le faire en présentiel ou à distance\n",
    "- Il doit rester en retrait et noter des points de discussions qui pourront être nécessaire après le Daily\n",
    "- Bien sûr si l’équipe a une question particulière pour le PO, il peuvent demander, mais cela doit rester ponctuel et exceptionnel car cela n’est principalement pas le moment\n",
    "\n",
    "Il peut le faire en présentiel ou à distance\n",
    "Il doit rester en retrait et noter des points de discussions qui pourront être nécessaire après le Daily\n",
    "Bien sûr si l’équipe a une question particulière pour le PO, il peuvent demander, mais cela doit rester ponctuel et exceptionnel car cela n’est principalement pas le moment"
   ]
  },
  {
   "cell_type": "markdown",
   "metadata": {},
   "source": [
    "#### A éviter lors d’un daily Scrum\n"
   ]
  },
  {
   "cell_type": "markdown",
   "metadata": {},
   "source": [
    "- Détailler toutes ses actions\n",
    "- Faire une réunion dans la réunion\n",
    "- Prendre trop de temps de parole\n",
    "- Inviter des participants qui n’ont pas leur place"
   ]
  },
  {
   "cell_type": "markdown",
   "metadata": {},
   "source": [
    "### La Sprint Review"
   ]
  },
  {
   "cell_type": "markdown",
   "metadata": {},
   "source": [
    "La revue de Sprint a pour but de faire le point sur ce qui a été réalisé durant le Sprint et de voir si l’objectif du Sprint est atteint. Elle permet de démontrer aux parties prenantes (stakeholders) ce qui a été terminé pendant le Sprint, ainsi que de faire l’inspection de l’Incrément.\n",
    "\n",
    "Elle sert également de transition à la prochaine réunion de planning. Durant la revue de Sprint, l’équipe Scrum présente les stories terminées, explique les problèmes rencontrés, comment ils ont été résolus, répond aux questions des participants et prend note de leurs retours. Elle permet au Product Owner de faire le point sur le backlog produit et d’effectuer des ajustements pour la suite.\n",
    "\n",
    "Une Sprint Review a une timebox de 4h pour un Sprint de 1 mois."
   ]
  },
  {
   "cell_type": "markdown",
   "metadata": {},
   "source": [
    "### La rétrospective"
   ]
  },
  {
   "cell_type": "markdown",
   "metadata": {},
   "source": [
    "La rétrospective de Sprint permet de se focaliser sur les personnes, les relations et les process dans le but d’analyser à chaque fin de Sprint ce qui à bien fonctionné, ce qui doit être abandonné et ce qui peut être amélioré (Keep, Drop, Start). C’est un moment important pour prendre du recul, exprimer son ressenti et apprendre des expériences passées pour progresser.\n",
    "\n",
    "Pour que la rétrospective soit une expérience mémorable pour l’équipe et pour éviter la routine, il existe de nombreux formats ludiques qui peuvent servir d’exemple pour les animer :\n",
    "- Keep - Drop - Start,\n",
    "- Speed boat,\n",
    "- On refait le match,\n",
    "- Bâton de parole,\n",
    "- Etc.\n",
    "\n",
    "Quelques soit le format choisi pour animer votre rétrospective, le déroulé se fait généralement selon les étapes suivantes :\n",
    "- Mise en place,\n",
    "- Récolter les données,\n",
    "- Générer les idées,\n",
    "- Décider quoi faire,\n",
    "- Clore la rétrospective.\n",
    "L’essentiel pour votre rétrospective est qu’elle permette de générer des actions concrètes qui seront mises en oeuvre pour le prochain Sprint. Il faut placer impérativement un item désigné par l’ensemble de l’équipe dans la prochaine Sprint Backlog afin de favoriser l’amélioration continue.\n",
    "\n",
    "Une Sprint Retrospective a une timebox de 3h pour un Sprint de 1 mois."
   ]
  },
  {
   "cell_type": "markdown",
   "metadata": {},
   "source": [
    "## Artefacts et outils de la méthode Scrum"
   ]
  },
  {
   "cell_type": "markdown",
   "metadata": {},
   "source": [
    "### Product backlog"
   ]
  },
  {
   "cell_type": "markdown",
   "metadata": {},
   "source": [
    "Le product backlog est une liste qui capture tous les besoins et fonctionnalités pouvant émerger de la part des clients, des utilisateurs ou encore de l’équipe Scrum. \n",
    "\n",
    "Ces items seront priorisés par le Product Owner de façon systématique et permanente.\n",
    "\n",
    "Puisque cet artefact scrum est la seule et unique source de travail, nous y retrouverons toutes les fonctionnalités, les exigences, les améliorations et les correctifs à apporter.\n",
    "\n",
    "Du plus important au moins important.\n",
    "\n",
    "Nous l’avons vu avec l’article sur le rôle du Product Owner, ce dernier porte l’entière responsabilité de la maximation du produit. \n",
    "\n",
    "À ce titre, c’est bien lui qui arbitrera en cas de besoin sur la priorisation du product backlog.\n",
    "\n",
    "Toutefois, il est bien sûr en capacité à déléguer une partie de sa gestion. Il n'en reste pas moins le responsable.\n",
    "\n",
    "Étant enrichi en permanence par les besoins des utilisateurs et les possibilités de maximisation de la valeur, le product backlog est un élément vivant qui sera ordonnancé de façon itérative.\n",
    "\n",
    "Composé de User Stories ou Récit Utilisateurs, il s’agit d’une sorte de carte d’identité qui définit le besoin à combler ou la fonctionnalité à développer.\n",
    "\n",
    "Son objectif est de faciliter la compréhension du besoin tout en minimisant les possibilités de quiproquos via des consignes écrites spécifiques.\n",
    "\n",
    "Un récit utilisateur se doit de comporter les éléments suivants :  \n",
    "- L’utilisateur cible ou groupe d’utilisateurs de la fonctionnalité\n",
    "- Ce que souhaite l’utilisateur\n",
    "- La raison pour laquelle la fonctionnalité est requise\n",
    "\n",
    "Cela permet de donner toutes les informations utiles à sa compréhension par tous.\n",
    "\n",
    "Pour ordonnancer les user stories nous aurons besoin de définir l'engagement : product goal.\n",
    "\n",
    "Engagement : Product Goal\n",
    "Celui-ci répond à la question pourquoi ce projet ? Quel est son but ?\n",
    "\n",
    "Bien entendu, il peut être amené à évoluer au fur et à mesure du déroulement du projet en fonction des feedbacks obtenus lors de l’utilisation de l’incrément.\n",
    "\n",
    "Cet objectif est décomposé dans le product backlog via les différents éléments qui le constituent.\n",
    "\n",
    "Lorsque l'objectif est atteint, il y a deux possibilités :\n",
    "- Soit, il n'y a plus de développement du produit\n",
    "- Soit un nouvel objectif est défini\n",
    "\n",
    "Encore une fois, le seul responsable du product goal est le product owner. \n",
    "\n",
    "C'est-à-dire que c’est lui qui définit l’objectif du produit et sa communication vers les parties prenantes, dans la mesure où il a une bonne compréhension du besoin.\n",
    "\n",
    "Comme tout objectif, le product goal se doit d’être clair, concis, atteignable, mesurable et rendu transparent grâce au product backlog."
   ]
  },
  {
   "cell_type": "markdown",
   "metadata": {},
   "source": [
    "### Sprint backlog"
   ]
  },
  {
   "cell_type": "markdown",
   "metadata": {},
   "source": [
    "Le deuxième artefact scrum est le sprint backlog.\n",
    "\n",
    "Comme défini dans l’introduction, le cadre méthodologique Scrum divise le calendrier d’une équipe en cycles qui se répètent.\n",
    "\n",
    "Un certain nombre de tâches prédécoupées sont intégrées dans le sprint backlog, ces éléments devront être traités durant le sprint à venir.\n",
    "\n",
    "Dans un premier temps, le sprint backlog contient les user stories et bugs à corriger qui ont été acceptées durant le sprint planning.\n",
    "\n",
    "Ces user stories peuvent être décomposées en différentes tâches par la suite durant la phase de développement, lorsque les développeurs vont acquérir plus d'informations, plus de connaissances.\n",
    "\n",
    "À la fin de chaque cycle, le travail accompli doit créer de la valeur pour le produit en développement.\n",
    "\n",
    "Les sprints ont une date de début et une date de fin fixe.\n",
    "\n",
    "La durée d’un sprint est toujours la même.\n",
    "\n",
    "Le guide Scrum conseille de la fixer à 2 ou 3 semaines. \n",
    "\n",
    "Pour faire simple, le sprint backlog comporte les éléments (le quoi) à développer dans le but répondre au besoin du client (le pourquoi).\n",
    "\n",
    "Il dispose aussi d’un plan d’actions pour la réalisation de l’incrément (le comment).\n",
    "\n",
    "Les développeurs viennent piocher ce qui est le plus réaliste et ce qui a le plus de valeur.\n",
    "\n",
    "Chaque développeur va prendre en charge séquentiellement des éléments pour les transformer (en fonction de ses compétences).\n",
    "\n",
    "L’entièreté de l’équipe est responsable de l’entièreté des tâches, même si un individu a effectué ses tâches, il ne doit pas se contenter de sa réalisation et doit venir en aide aux collaborateurs qui éprouvent des difficultés.\n",
    "\n",
    "Ils doivent tous ensemble être solidaires pour leur cohésion, mais aussi et surtout pour répondre aux attentes du demandeur.\n",
    "\n",
    "Dans un sprint backlog on retrouve à minima les catégories suivantes :\n",
    "- À faire\n",
    "- En cours\n",
    "- Terminé\n",
    "\n",
    "Si certaines tâches s'avèrent plus compliquées que prévu, les développeurs renégocient le périmètre du sprint backlog.\n",
    "\n",
    "C’est la raison pour laquelle le sprint backlog n'est pas un élément figé, mais vivant tout au long du sprint.\n",
    "\n",
    "Ils doivent veiller à ce que les modifications qu’ils réalisent ne détournent pas le sprint goal.\n",
    "\n",
    "Si un élément du sprint backlog n'est pas terminé ni même commencé, il retourne alors dans le product backlog et sera réalisé au cours du sprint d’après.\n",
    "\n",
    "Engagement : Sprint Goal \n",
    "Toutes les parties prenantes vont prendre connaissance du sprint goal. \n",
    "\n",
    "Le but est d'indiquer ce que le sprint va produire comme incrément de valeur, avant de passer en production.\n",
    "\n",
    "Avoir un sprint goal clair pour l'équipe Scrum va permettre :\n",
    "- De donner un sens et de motiver les équipes pour atteindre cet objectif\n",
    "- De se focaliser rapidement et uniquement sur les tâches importantes pour atteindre cet objectif\n",
    "- De décider plus rapidement entre différentes options\n",
    "- De gérer les risques avec plus d'acuité\n",
    "- Et de partager une cible à court terme avec toutes les parties prenantes\n",
    "\n",
    "Si l’objectif est précisé en amont, c'est pour éviter une perte de temps de l’équipe en se focalisant sur des actions mineures (qui ont peu de valeur ajoutée), au détriment d’actions qui auront plus de sens pour le client et les utilisateurs.\n",
    "\n",
    "Quand l’équipe manque de cohérence, bien souvent elle se décourage et devient moins performante.\n",
    "\n",
    "De plus, pour déterminer qu’un objectif a correctement été rempli, il est nécessaire de le qualifier précisément.\n",
    "\n",
    "Que ce soit pour sa réalisation ou pour son analyse post-développement."
   ]
  },
  {
   "cell_type": "markdown",
   "metadata": {},
   "source": [
    "### L'incrément produit"
   ]
  },
  {
   "cell_type": "markdown",
   "metadata": {},
   "source": [
    "C’est un des artefacts Scrum les plus importants de la culture Agile.\n",
    "\n",
    "Durant chaque Sprint, l’équipe de développement réalise un incrément de produit.\n",
    "\n",
    "À quoi correspond un incrément de produit ?\n",
    "\n",
    "C'est la somme des éléments du sprint backlog terminés durant le sprint, plus les incréments des précédents sprints.\n",
    "\n",
    "Il y a donc un effet cumulatif.\n",
    "\n",
    "Cette somme des incréments de produits permet d'avancer vers le product goal.\n",
    "\n",
    "Cet incrément doit s’aligner sur la «Définition de Terminé» de l’équipe de développement.\n",
    "\n",
    "Si l’équipe a bien estimé les différentes user stories intégrées dans le sprint, l’incrément comprend toutes ces tâches, qui étaient prévues dans le Sprint Backlog.\n",
    "\n",
    "C’est le livrable partiel que l’on délivre à la fin de chaque sprint.\n",
    "\n",
    "C’est un prototype, il est donc déjà opérationnel à l’issue du premier sprint.\n",
    "\n",
    "Durant les prochaines itérations, il sera sans cesse ajusté pour répondre au mieux aux attentes du client.\n",
    "\n",
    "Engagement : Definition of Done\n",
    "Un des artefacts Scrum consiste à définir ce que signifie pour l’équipe le terme “terminé”.\n",
    "\n",
    "En effet, si vous interrogez trois personnes en leur demandant de décrire ce qu’est, selon eux, une tâche terminée, vous aurez trois descriptions différentes.\n",
    "\n",
    "Ces interprétations n’ont pas leur place dans une équipe Scrum.\n",
    "\n",
    "D’autant plus qu’un produit ne doit pas avoir de fonctionnalités à “moitié effectuées” ou de tâches ne pouvant être utilisées en fin de cycle.\n",
    "\n",
    "La définition de “Terminé” doit être unanime. \n",
    "\n",
    "La « définition de terminé » (ou DoD en anglais) est une liste de vérifications des tâches que l’équipe doit réaliser avec succès avant de déclarer que la fonctionnalité est potentiellement livrable.\n",
    "\n",
    "C'est-à-dire que le produit doit satisfaire les mesures de qualité requises pour le produit.\n",
    "\n",
    "Ces vérifications peuvent varier selon la nature du produit, les technologies utilisées. \n",
    "\n",
    "Mais il est essentiel de s’assurer qu’elles soient entendues, comprises et appliquées par toute l’équipe. "
   ]
  },
  {
   "cell_type": "markdown",
   "metadata": {},
   "source": [
    "## Définition"
   ]
  },
  {
   "cell_type": "markdown",
   "metadata": {},
   "source": [
    "### User Story"
   ]
  },
  {
   "cell_type": "markdown",
   "metadata": {},
   "source": [
    "Dans les méthodes agiles, une User Story (de son petit nom US) est une phrase simple, rédigée dans un langage courant, qui permet de décrire avec suffisamment de précision le contenu d’une fonctionnalité à développer. \n",
    "\n",
    "Dans la méthode agile Scrum dont elle est issue, la User Story est censée illustrer un besoin fonctionnel exprimé par les types d’utilisateurs. Elle vise ainsi à assurer que l’on délivre bien de la valeur pour nos usagers. \n",
    "\n",
    "Pour le Product Owner, l’intérêt de rédiger des User Stories est triple :\n",
    "- elles permettent de coller au maximum au besoin et à la vision de l’utilisateur (car elles sont exprimées de manière simple, en langage courant) ;\n",
    "- elles engendrent un gain de temps considérable pour les équipes de développement dans leur compréhension de la fonctionnalité à développer (toujours grâce à sa forme synthétique) ;\n",
    "- elles permettent d’aligner la vision, et de confirmer la compréhension du métier, du Product Owner, des développeurs, du Scrum Master, des testeurs et de toute autre partie prenante pertinente en les rassemblant autour d’un langage commun.\n"
   ]
  },
  {
   "cell_type": "markdown",
   "metadata": {},
   "source": [
    "### Story points"
   ]
  },
  {
   "cell_type": "markdown",
   "metadata": {},
   "source": [
    "Les story points se définissent comme une unité de mesure, utilisée majoritairement en gestion de projet agile Scrum. Ils servent à estimer la charge de travail globale des équipes, afin de planifier au mieux chaque sprint ou itération.\n",
    "\n",
    "Concrètement un numéro, ou valeur, est attribué à chaque user story (ou scénario utilisateur) afin d'évaluer l'effort total (énergie, charge de travail, etc.) à allouer à sa réalisation. Par conséquent, l’estimation en story points doit considérer tous les paramètres amenés à impacter cet effort :\n",
    "- la quantité de travail à fournir ;\n",
    "- la complexité des tâches à exécuter ;\n",
    "- tout risque ou incertitude qui viendraient compromettre leur réalisation ;\n",
    "- les capacités techniques de l'équipe."
   ]
  },
  {
   "cell_type": "markdown",
   "metadata": {},
   "source": [
    "### Definition of Done (DOD)"
   ]
  },
  {
   "cell_type": "markdown",
   "metadata": {},
   "source": [
    "L’équipe de développement va définir ensemble l’ensemble des critères qui permettront d’affirmer qu’un item (user story par exemple) peut être considéré comme « done ». Ces critères auront pour objectif de s’imposer une qualité technique sur tous les éléments livrés. Souvent bien mal compris, en scrum, l’équipe de développement est 100% responsable des réalisations et ceci jusqu’à la mise en production des éléments. Le product owner n’est pas un validateur du travail de cette équipe. Ainsi, l’équipe de développement doit s’imposer des critères qui définiront le minimum requis pour s’autoriser de livrer les éléments en production. Et cette équipe le fait en toute autonomie.\n",
    "\n",
    "Si le product owner peut être consulté, il n’a aucune responsabilité autour du definition of done. Il ne peut pas essayer d’imposer ses idées à l’équipe de développement. Il est essentiel que l’organisation comprenne que l’équipe de développement est 100% autonome sur la réalisation et ceci dans son intégralité. Sur les board visuels, cela est souvent représenté par le passage du post’it dans la colonne « done »."
   ]
  },
  {
   "cell_type": "markdown",
   "metadata": {},
   "source": [
    "### Burndown Chart"
   ]
  },
  {
   "cell_type": "markdown",
   "metadata": {},
   "source": [
    "C’est un indicateur de mesure qui montre le travail restant sur une période donnée. Il permet de suivre le projet dans le temps afin de contrôler sa livraison dans les délais souhaités. Sur l’axe X s’affiche le nombre de jours que dure le sprint. Sur l’axe Y s’affiche l’effort en terme de story-points (ou de tickets) de l’équipe.\n",
    "\n",
    "Deux lignes sont présentes : l’une représente le taux de progression idéal, l’autre le taux de progression de l’équipe. La barre de progression idéale sert de guide à l’équipe Scrum en lui montrant où elle doit en être.\n",
    "Le taux de progression de l’équipe exprime le nombre de stories-points (ou de tâches) complétés par itération. Seules les tâches terminées à la fin de l’itération sont comptées.\n",
    "Après quelques sprints, la vitesse d’une équipe Scrum sera très probablement prévisible et permettra une estimation assez précise du nombre points qu’elle produit durant un sprint.\n",
    "Si la vitesse d’une équipe Scrum est par exemple de 20 points pour un sprint de deux semaines, et que la quantité totale de travail restant sur le projet est de 80 points, nous pouvons prédire qu’il nous faut environ 4 Sprint (soit deux mois) pour terminer toutes les user-stories dans le backlog.\n",
    "\n",
    "Le burndown chart permet de visualiser les points restant à faire de l’équipe tout au long d’un sprint. Ces indicateurs de mesure s’affichent automatiquement sur l’outil JIRA.\n",
    "\n",
    "Il indique ici que l’équipe n’a pas rempli son engagement. La courbe rouge indique qu’il reste 12 points sur les 26 points sur lesquelles s’est engagée l’équipe en début de sprint. Les tâches non terminées sont alors déplacées dans le prochain sprint.\n",
    "Les pics de remontées indiquent que des tâches sont rajoutées par le Product owner durant le sprint. Cela peut être des bugs remontés par les utilisateurs. Les points ajoutés vont changer le périmètre du sprint. Si l’équipe s’est engagée sur 26 points et que le Product owner ajoute une tâche de 2 points et une autre de 3 points. Le nouveau périmètre sera de 31 points. Il est toujours utile lors de la planification de sprint, lorsque les développeurs s’engagent sur un certain nombre de points, de laisser quelques points exprès pour gérer les remontées de bug afin que l’équipe ne soit pas trop surchargée.\n",
    "\n",
    "Sur ce burdown chart, la courbe du taux de progression de l’équipe est bien supérieure à la courbe idéale. 7 points ont été validées par l’équipe sur 28 points. Arrivé à la fin du sprint, l’équipe est loin d’avoir livré l’incrément de produit sur lequel elle s’est engagée.\n",
    "Cela peut signifier plusieurs choses :\n",
    "- L’équipe a accumulé de la dette technique\n",
    "- Il n’y a pas eu de préparation du projet et donc pas de sprint 0\n",
    "- La planification de sprint s’est faîte à la hâte et les critères fonctionnels présents dans les users-stories ont été négligés\n",
    "- Ou des raisons purement humaines : des membres de l’équipe qui partent de l’entreprise, ect…"
   ]
  },
  {
   "cell_type": "markdown",
   "metadata": {},
   "source": [
    "### Méthode Kanban"
   ]
  },
  {
   "cell_type": "markdown",
   "metadata": {},
   "source": [
    "Kanban a été initialement développé par Taiichi Ohno, ingénieur industriel chez Toyota, pour créer un processus de fabrication plus efficace.\n",
    "\n",
    "Il a ensuite été appliqué au développement de produits par David J. Anderson dans son livre de 2010 Kanban: Successful Evolutionary Change for Your Technology Business.\n",
    "\n",
    "Comme Scrum, Kanban encourage le travail à être décomposé en petites tâches.\n",
    "\n",
    "Mais plutôt que de planifier le travail dans une itération ou un Sprint, les membres de l’équipe récupèrent la tâche la plus prioritaire dans le backlog qui est prête à être développée.\n",
    "\n",
    "Les équipes vont utiliser un tableau Kanban pour visualiser ce travail à mesure qu’il progresse dans le flux de travail.\n",
    "\n",
    "Il permet d’illustrer à la fois un processus et chaque fonctionnalité passant par ce processus.\n",
    "\n",
    "L’objectif principal de la mise en œuvre de Kanban est d’identifier les goulots d’étranglement potentiel dans le processus et de les corriger.\n",
    "\n",
    "Les équipes mettent en place KANBAN pour que le flux de travail se déroule sans problème à une vitesse optimale.\n",
    "\n",
    "Tableau Kanban\n",
    "Dans ce tableau, le cadre Kanban limite la quantité de tâches autorisée dans chaque colonne. \n",
    "\n",
    "Imaginons que seulement trois tâches peuvent être dans la colonne “en cours” et une dans la catégorie “à tester.”\n",
    "\n",
    "Généralement, les développeurs sont connus pour préférer développer que tester, ici, Kanban les oblige à tester les tâches dans la catégorie “à tester” avant de démarrer un nouveau développement. \n",
    "\n",
    "La méthodologie Kanban est conçue pour répondre à la problématique d’embouteillage dans une catégorie donnée.  \n",
    "\n",
    "KANBAN propose un processus à suivre. \n",
    "\n",
    "1. Visualisez le travail\n",
    "\n",
    "En créant un modèle visuel pour observer les tâches se déplaçant à travers les colonnes du tableau Kanban.\n",
    "\n",
    "2. Limiter le travail en cours\n",
    "\n",
    "Cela permet de réduire le temps que met une tâche à traverser entièrement le tableau en partant de la première colonne jusqu’à la colonne “terminé”. \n",
    "\n",
    "3. Se concentrer sur le flux\n",
    "\n",
    "En utilisant des limites de travail en cours et en développant des politiques axées sur l’équipe, vous pouvez optimiser le système Kanban pour améliorer la fluidité du travail.\n",
    "\n",
    "4. S’Améliorer en continue\n",
    "\n",
    "Lorsque le système Kanban est en place, il sert de base à une amélioration continue. Il aide les équipes à mesurer leur efficacité en analysant le flux de suivi, les délais de qualification, etc."
   ]
  },
  {
   "cell_type": "markdown",
   "metadata": {},
   "source": [
    "## Argumentation sur l'utilisation du Scrum"
   ]
  },
  {
   "cell_type": "markdown",
   "metadata": {},
   "source": [
    "Scrum est la méthode agile (c'est un cadre de travail plus exactement) la plus utilisée parmi les autres méthodes agiles. Et de fait, la plus éprouvée. En 2009, 84% des entreprises utilisant des approches agiles utilisaient Scrum. La communauté, les nombreux retours d'expérience, les formations, les ouvrages associés sont autant d'éléments sur lesquels on peut se reposer pour mettre en place et optimiser la méthode.\n",
    "D'autre part, Scrum est simple à expliquer/comprendre et en perpétuelle amélioration (on peut parler d'un authentique cercle vertueux).\n",
    "\n",
    "L'une des particularités de Scrum est également sa revendication à n'être qu'un \"framework de gestion de projet\". Cet aspect rend Scrum adaptable à de nombreux contextes (parfois même des contextes très éloignés du développement logiciel complexe voir même de l'informatique).\n",
    "\n",
    "Voilà autant d’éléments qui mettent Scrum en position de standard (au même titre que PMI ou CMMI dans un autre registre) et qui rendent à mon sens les méthodes maison inappropriées. Du moins pour la gestion du projet proprement dite. Piocher quelques bonnes pratiques ou outils dans sa méthode traditionnelle maison peut rester pertinent du moment que les éléments utilisés s'insèrent correctement dans la méthode maître."
   ]
  }
 ],
 "metadata": {
  "kernelspec": {
   "display_name": "Python 3",
   "language": "python",
   "name": "python3"
  },
  "language_info": {
   "codemirror_mode": {
    "name": "ipython",
    "version": 3
   },
   "file_extension": ".py",
   "mimetype": "text/x-python",
   "name": "python",
   "nbconvert_exporter": "python",
   "pygments_lexer": "ipython3",
   "version": "3.8.5"
  }
 },
 "nbformat": 4,
 "nbformat_minor": 4
}
